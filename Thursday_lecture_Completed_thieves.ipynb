{
 "cells": [
  {
   "cell_type": "markdown",
   "metadata": {},
   "source": [
    "# Object-Oriented-Programming (OOP)"
   ]
  },
  {
   "cell_type": "markdown",
   "metadata": {},
   "source": [
    "## Tasks Today:\n",
    "\n",
    "   \n",
    "\n",
    "1) <b>Creating a Class (Initializing/Declaring)</b> <br>\n",
    "2) <b>Using a Class (Instantiating)</b> <br>\n",
    " &nbsp;&nbsp;&nbsp;&nbsp; a) Creating One Instance <br>\n",
    " &nbsp;&nbsp;&nbsp;&nbsp; b) Creating Multiple Instances <br>\n",
    " &nbsp;&nbsp;&nbsp;&nbsp; c) In-Class Exercise #1 - Create a Class 'Car' and instantiate three different makes of cars <br>\n",
    "3) <b>The \\__init\\__() Method</b> <br>\n",
    " &nbsp;&nbsp;&nbsp;&nbsp; a) The 'self' Attribute <br>\n",
    "4) <b>Class Attributes</b> <br>\n",
    " &nbsp;&nbsp;&nbsp;&nbsp; a) Initializing Attributes <br>\n",
    " &nbsp;&nbsp;&nbsp;&nbsp; b) Setting an Attribute Outside of the \\__init\\__() Method <br>\n",
    " &nbsp;&nbsp;&nbsp;&nbsp; c) Setting Defaults for Attributes <br>\n",
    " &nbsp;&nbsp;&nbsp;&nbsp; d) Accessing Class Attributes <br>\n",
    " &nbsp;&nbsp;&nbsp;&nbsp; e) Changing Class Attributes <br>\n",
    " &nbsp;&nbsp;&nbsp;&nbsp; f) In-Class Exercise #2 - Add a color and wheels attribute to your 'Car' class <br>\n",
    "5) <b>Class Methods</b> <br>\n",
    " &nbsp;&nbsp;&nbsp;&nbsp; a) Creating <br>\n",
    " &nbsp;&nbsp;&nbsp;&nbsp; b) Calling <br>\n",
    " &nbsp;&nbsp;&nbsp;&nbsp; c) Modifying an Attribute's Value Through a Method <br>\n",
    " &nbsp;&nbsp;&nbsp;&nbsp; d) Incrementing an Attribute's Value Through a Method <br>\n",
    " &nbsp;&nbsp;&nbsp;&nbsp; e) In-Class Exercise #3 - Add a method that prints the cars color and wheel number, then call them <br>\n",
    "6) <b>Inheritance</b> <br>\n",
    " &nbsp;&nbsp;&nbsp;&nbsp; a) Syntax for Inheriting from a Parent Class <br>\n",
    " &nbsp;&nbsp;&nbsp;&nbsp; b) The \\__init\\__() Method for a Child Class (super()) <br>\n",
    " &nbsp;&nbsp;&nbsp;&nbsp; c) Defining Attributes and Methods for the Child Class <br>\n",
    " &nbsp;&nbsp;&nbsp;&nbsp; d) Method Overriding <br>\n",
    " &nbsp;&nbsp;&nbsp;&nbsp; e) In-Class Exercise #4 - Create a class 'Ford' that inherits from 'Car' class and initialize it as a Blue Ford Explorer with 4 wheels using the super() method <br>\n",
    "7) <b>Classes as Attributes</b> <br>\n",
    "8) <b>Exercises</b> <br>\n",
    " &nbsp;&nbsp;&nbsp;&nbsp; a) Exercise #1 - Turn the shopping cart program from yesterday into an object-oriented program <br>"
   ]
  },
  {
   "cell_type": "markdown",
   "metadata": {},
   "source": [
    "## Creating a Class (Initializing/Declaring)\n",
    "<p>When creating a class, function, or even a variable you are initializing that object. Initializing and Declaring occur at the same time in Python, whereas in lower level languages you have to declare an object before initializing it. This is the first step in the process of using a class.</p>"
   ]
  },
  {
   "cell_type": "code",
   "execution_count": 9,
   "metadata": {},
   "outputs": [],
   "source": [
    "class Car():\n",
    "    wheels = 4\n",
    "    color = 'blue'"
   ]
  },
  {
   "cell_type": "markdown",
   "metadata": {},
   "source": [
    "## Using a Class (Instantiating)\n",
    "<p>The process of creating a class is called <i>Instantiating</i>. Each time you create a variable of that type of class, it is referred to as an <i>Instance</i> of that class. This is the second step in the process of using a class.</p>"
   ]
  },
  {
   "cell_type": "markdown",
   "metadata": {},
   "source": [
    "##### Creating One Instance"
   ]
  },
  {
   "cell_type": "code",
   "execution_count": 16,
   "metadata": {},
   "outputs": [
    {
     "name": "stdout",
     "output_type": "stream",
     "text": [
      "blue\n"
     ]
    }
   ],
   "source": [
    "ford = Car()\n",
    "\n",
    "print(ford.color)"
   ]
  },
  {
   "cell_type": "markdown",
   "metadata": {},
   "source": [
    "##### Creating Multiple Instances"
   ]
  },
  {
   "cell_type": "code",
   "execution_count": 19,
   "metadata": {},
   "outputs": [
    {
     "name": "stdout",
     "output_type": "stream",
     "text": [
      "blue\n"
     ]
    },
    {
     "ename": "AttributeError",
     "evalue": "'Car' object has no attribute 'engine'",
     "output_type": "error",
     "traceback": [
      "\u001b[0;31m---------------------------------------------------------------------------\u001b[0m",
      "\u001b[0;31mAttributeError\u001b[0m                            Traceback (most recent call last)",
      "\u001b[1;32m/Users/christian/Documents/Thieves-98/Python Basics/Thursday_Lesson_Inclass.ipynb Cell 9\u001b[0m in \u001b[0;36m<cell line: 6>\u001b[0;34m()\u001b[0m\n\u001b[1;32m      <a href='vscode-notebook-cell:/Users/christian/Documents/Thieves-98/Python%20Basics/Thursday_Lesson_Inclass.ipynb#X11sZmlsZQ%3D%3D?line=2'>3</a>\u001b[0m lambo \u001b[39m=\u001b[39m Car()\n\u001b[1;32m      <a href='vscode-notebook-cell:/Users/christian/Documents/Thieves-98/Python%20Basics/Thursday_Lesson_Inclass.ipynb#X11sZmlsZQ%3D%3D?line=4'>5</a>\u001b[0m \u001b[39mprint\u001b[39m(nissan\u001b[39m.\u001b[39mcolor)\n\u001b[0;32m----> <a href='vscode-notebook-cell:/Users/christian/Documents/Thieves-98/Python%20Basics/Thursday_Lesson_Inclass.ipynb#X11sZmlsZQ%3D%3D?line=5'>6</a>\u001b[0m \u001b[39mprint\u001b[39m(chevy\u001b[39m.\u001b[39;49mengine)\n",
      "\u001b[0;31mAttributeError\u001b[0m: 'Car' object has no attribute 'engine'"
     ]
    }
   ],
   "source": [
    "nissan = Car()\n",
    "chevy = Car()\n",
    "lambo = Car()\n",
    "\n",
    "print(nissan.color)\n",
    "print(chevy.engine)"
   ]
  },
  {
   "cell_type": "markdown",
   "metadata": {},
   "source": [
    "##### In-Class Exercise #1 - Create a Class 'Car' and Instantiate three different makes of cars"
   ]
  },
  {
   "cell_type": "code",
   "execution_count": null,
   "metadata": {},
   "outputs": [],
   "source": []
  },
  {
   "cell_type": "markdown",
   "metadata": {},
   "source": [
    "## The \\__init\\__() Method <br>\n",
    "<p>This method is used in almost every created class, and called only once upon the creation of the class instance. This method will initialize all variables needed for the object.</p>"
   ]
  },
  {
   "cell_type": "code",
   "execution_count": 28,
   "metadata": {},
   "outputs": [
    {
     "data": {
      "text/plain": [
       "4"
      ]
     },
     "execution_count": 28,
     "metadata": {},
     "output_type": "execute_result"
    }
   ],
   "source": [
    "class Car():\n",
    "    wheels = 4 # class-attribute\n",
    "    def __init__(self, make, model, color, engine): #instance-attributes\n",
    "        self.make = make\n",
    "        self.model = model\n",
    "        self.color = color\n",
    "        self.engine = engine\n",
    "\n",
    "nissan = Car('nissan', '370z', 'black', 'V6')\n",
    "chevy = Car('chevy', 'camero', 'yellow', 'V8')\n"
   ]
  },
  {
   "cell_type": "code",
   "execution_count": 53,
   "metadata": {},
   "outputs": [
    {
     "name": "stdout",
     "output_type": "stream",
     "text": [
      "The Seahawks are from Seattle\n",
      "The Giants are from New York\n"
     ]
    }
   ],
   "source": [
    "class NflTeams():\n",
    "    country = 'america'\n",
    "    def __init__(self, city, name):\n",
    "        self.city = city\n",
    "        self.name = name\n",
    "\n",
    "    def printInfo(self):\n",
    "        print(f'The {self.name} are from {self.city}')\n",
    "    \n",
    "team1 = NflTeams('Seattle', 'Seahawks')\n",
    "team2 = NflTeams('New York', 'Giants')\n",
    "\n",
    "team1.printInfo()\n",
    "team2.printInfo()\n"
   ]
  },
  {
   "cell_type": "markdown",
   "metadata": {},
   "source": [
    "##### The 'self' Attribute <br>\n",
    "<p>This attribute is required to keep track of specific instance's attributes. Without the self attribute, the program would not know how to reference or keep track of an instance's attributes.</p>"
   ]
  },
  {
   "cell_type": "code",
   "execution_count": null,
   "metadata": {},
   "outputs": [],
   "source": [
    "# see above"
   ]
  },
  {
   "cell_type": "markdown",
   "metadata": {},
   "source": [
    "## Class Attributes <br>\n",
    "<p>While variables are inside of a class, they are referred to as attributes and not variables. When someone says 'attribute' you know they're speaking about a class. Attributes can be initialized through the init method, or outside of it.</p>"
   ]
  },
  {
   "cell_type": "markdown",
   "metadata": {},
   "source": [
    "##### Initializing Attributes"
   ]
  },
  {
   "cell_type": "code",
   "execution_count": null,
   "metadata": {},
   "outputs": [],
   "source": [
    "# see above"
   ]
  },
  {
   "cell_type": "markdown",
   "metadata": {},
   "source": [
    "##### Accessing Class Attributes"
   ]
  },
  {
   "cell_type": "code",
   "execution_count": null,
   "metadata": {
    "scrolled": true
   },
   "outputs": [],
   "source": [
    "# See Above"
   ]
  },
  {
   "cell_type": "markdown",
   "metadata": {},
   "source": [
    "##### Setting Defaults for Attributes"
   ]
  },
  {
   "cell_type": "code",
   "execution_count": 52,
   "metadata": {},
   "outputs": [
    {
     "data": {
      "text/plain": [
       "{'city': 'Austin', 'name': 'Steelers', 'year': 2022, 'country': 'america'}"
      ]
     },
     "execution_count": 52,
     "metadata": {},
     "output_type": "execute_result"
    }
   ],
   "source": [
    "class NflTeams():\n",
    "    # This works, but is not the best way\n",
    "    # country = 'america'\n",
    "    def __init__(self, city, name, year=2022, country='america'):\n",
    "        self.city = city\n",
    "        self.name = name\n",
    "        self.year = year\n",
    "        self.country = country\n",
    "\n",
    "    def printInfo(self):\n",
    "        print(f'The {self.name} are from {self.city}')\n",
    "\n",
    "steelers = NflTeams('Pittsburgh', 'Steelers')\n",
    "steelers.city\n",
    "steelers.year\n",
    "steelers.__dict__\n",
    "\n",
    "# Changing a Instance Attribute\n",
    "steelers.city = 'Austin'\n",
    "steelers.__dict__\n",
    "\n",
    "# class Car():\n",
    "#     def __init__(self):\n",
    "#         pass\n"
   ]
  },
  {
   "cell_type": "markdown",
   "metadata": {},
   "source": [
    "##### Changing Instance Attributes <br>\n",
    "<p>Keep in mind there are global class attributes and then there are attributes only available to each class instance which won't effect other classes.</p>"
   ]
  },
  {
   "cell_type": "code",
   "execution_count": null,
   "metadata": {},
   "outputs": [],
   "source": [
    "# See above"
   ]
  },
  {
   "cell_type": "markdown",
   "metadata": {},
   "source": [
    "##### In-Class Exercise #2 - Add a doors and seats attribute to your 'Car' class then print out two different instances with different doors and seats"
   ]
  },
  {
   "cell_type": "code",
   "execution_count": null,
   "metadata": {},
   "outputs": [],
   "source": []
  },
  {
   "cell_type": "markdown",
   "metadata": {},
   "source": [
    "## Class Methods <br>\n",
    "<p>While inside of a class, functions are referred to as 'methods'. If you hear someone mention methods, they're speaking about classes. Methods are essentially functions, but only callable on the instances of a class.</p>"
   ]
  },
  {
   "cell_type": "markdown",
   "metadata": {},
   "source": [
    "##### Creating"
   ]
  },
  {
   "cell_type": "code",
   "execution_count": 78,
   "metadata": {},
   "outputs": [
    {
     "name": "stdout",
     "output_type": "stream",
     "text": [
      "lebron james has been added to the LA Lakers!\n",
      "Your current roster is {'lebron james': 6}\n",
      "kobe bryant has been added to the LA Lakers!\n",
      "Your current roster is {'lebron james': 6, 'kobe bryant': 24}\n",
      "kyrie irving has been added to the LA Lakers!\n",
      "Your current roster is {'lebron james': 6, 'kobe bryant': 24, 'kyrie irving': 2}\n",
      "You currently have 3 on your team! \n",
      "---------- Current Roster for the LA Lakers! -----------------\n",
      "lebron james 6\n",
      "kobe bryant 24\n",
      "kyrie irving 2\n",
      "You currently have 3 on your team! \n",
      "---------- Current Roster for the LA Lakers! -----------------\n",
      "lebron james 6\n",
      "kobe bryant 24\n",
      "kyrie irving 2\n",
      "Good luck this season!\n",
      "{'city': 'Oakland', 'name': 'Lakers', 'country': 'United States', 'depth_chart': {'lebron james': 6, 'kobe bryant': 24, 'kyrie irving': 2}, 'number_of_players': 3}\n"
     ]
    }
   ],
   "source": [
    "class Roster():\n",
    "    def __init__(self, city, name, country='United States'):\n",
    "        self.city = city\n",
    "        self.name = name\n",
    "        self.country = country\n",
    "        self.depth_chart = {}\n",
    "        self.number_of_players = 0\n",
    "    \n",
    "    def addPlayer(self):\n",
    "        name = input('What is the players name that you would like to add? ')\n",
    "        number = int(input(f'What jersey number will {name} have? '))\n",
    "        self.depth_chart[name] = number\n",
    "        self.number_of_players += 1\n",
    "        print(f'{name} has been added to the {self.city} {self.name}!')\n",
    "        print(f'Your current roster is {self.depth_chart}')\n",
    "    \n",
    "    def deletePlayer(self):\n",
    "        player = input('What player would you like to delete? ')\n",
    "        print(f'{self.depth_chart[player]} has been removed from the roster!')\n",
    "        del self.depth_chart[player]\n",
    "    \n",
    "    def showPlayers(self):\n",
    "        print(f'You currently have {self.number_of_players} players on your team! ')\n",
    "        print(f'---------- Current Roster for the {self.city} {self.name}! -----------------')\n",
    "        for key,value in self.depth_chart.items():\n",
    "            print(key,value)\n",
    "        \n",
    "\n",
    "\n",
    "roster1 = Roster('LA', 'Lakers')\n",
    "\n",
    "def runner():\n",
    "    while True:\n",
    "        user_choice = input('What would you like to do? (add,delete,show, or quit)? ')\n",
    "        if user_choice == 'quit':\n",
    "            roster1.showPlayers()\n",
    "            print('Good luck this season!')\n",
    "            break  \n",
    "        elif user_choice == 'add':\n",
    "            roster1.addPlayer()\n",
    "        elif user_choice == 'delete':\n",
    "            roster1.deletePlayer()\n",
    "        elif user_choice == 'show':\n",
    "            roster1.showPlayers()\n",
    "        else:\n",
    "            print('Not a valid option, please try again')\n",
    "\n",
    "runner()\n",
    "\n",
    "roster1.city = 'Oakland'\n",
    "print(roster1.__dict__)\n"
   ]
  },
  {
   "cell_type": "markdown",
   "metadata": {},
   "source": [
    "##### Calling"
   ]
  },
  {
   "cell_type": "code",
   "execution_count": null,
   "metadata": {},
   "outputs": [],
   "source": [
    "# See Above"
   ]
  },
  {
   "cell_type": "markdown",
   "metadata": {},
   "source": [
    "##### Modifying an Attribute's Value Through a Method"
   ]
  },
  {
   "cell_type": "code",
   "execution_count": null,
   "metadata": {},
   "outputs": [],
   "source": [
    "# see above\n",
    "# modifying the self.depth_chart attribute"
   ]
  },
  {
   "cell_type": "markdown",
   "metadata": {},
   "source": [
    "##### Incrementing an Attribute's Value Through a Method"
   ]
  },
  {
   "cell_type": "code",
   "execution_count": null,
   "metadata": {},
   "outputs": [],
   "source": [
    "# see above\n",
    "# incrementing the self.number_of_players attribute"
   ]
  },
  {
   "cell_type": "markdown",
   "metadata": {},
   "source": [
    "## Inheritance <br>\n",
    "<p>You can create a child-parent relationship between two classes by using inheritance. What this allows you to do is have overriding methods, but also inherit traits from the parent class. Think of it as an actual parent and child, the child will inherit the parent's genes, as will the classes in OOP</p>"
   ]
  },
  {
   "cell_type": "markdown",
   "metadata": {},
   "source": [
    "##### Syntax for Inheriting from a Parent Class"
   ]
  },
  {
   "cell_type": "code",
   "execution_count": null,
   "metadata": {},
   "outputs": [],
   "source": []
  },
  {
   "cell_type": "markdown",
   "metadata": {},
   "source": [
    "##### The \\__init\\__() Method for a Child Class - super()"
   ]
  },
  {
   "cell_type": "code",
   "execution_count": null,
   "metadata": {
    "scrolled": true
   },
   "outputs": [],
   "source": []
  },
  {
   "cell_type": "markdown",
   "metadata": {},
   "source": [
    "##### Defining Attributes and Methods for the Child Class"
   ]
  },
  {
   "cell_type": "code",
   "execution_count": null,
   "metadata": {},
   "outputs": [],
   "source": [
    "# See Above"
   ]
  },
  {
   "cell_type": "markdown",
   "metadata": {},
   "source": [
    "##### Method Overriding"
   ]
  },
  {
   "cell_type": "code",
   "execution_count": null,
   "metadata": {},
   "outputs": [],
   "source": [
    "# See Above"
   ]
  },
  {
   "cell_type": "markdown",
   "metadata": {},
   "source": [
    "## Classes as Attributes <br>\n",
    "<p>Classes can also be used as attributes within another class. This is useful in situations where you need to keep variables locally stored, instead of globally stored.</p>"
   ]
  },
  {
   "cell_type": "code",
   "execution_count": 96,
   "metadata": {},
   "outputs": [
    {
     "name": "stdout",
     "output_type": "stream",
     "text": [
      "...\n",
      "Bark\n",
      "Meow\n"
     ]
    },
    {
     "data": {
      "text/plain": [
       "True"
      ]
     },
     "execution_count": 96,
     "metadata": {},
     "output_type": "execute_result"
    }
   ],
   "source": [
    "class Animal(): # Base Class\n",
    "    def __init__(self, name, species, legs = 4):\n",
    "        self.name = name\n",
    "        self.species = species\n",
    "        self.legs = legs\n",
    "    \n",
    "    def talk(self):\n",
    "        print('...')\n",
    "    \n",
    "class Dog(Animal): # Child Class\n",
    "    def __init__(self, name, species, legs=4, isFast = True):\n",
    "        super().__init__(name, species, legs)\n",
    "        self.isFast = isFast\n",
    "        \n",
    "    def talk(self):\n",
    "        print('Bark')\n",
    "\n",
    "class Cat(Animal): # Child Class\n",
    "    def __init__(self, name, species, legs=4, isFast = False):\n",
    "        Animal.__init__(self, name, species, legs)\n",
    "        self.isFast = isFast\n",
    "        \n",
    "    def talk(self):\n",
    "        print('Meow')\n",
    "\n",
    "animal1 = Animal('Christian', 'Human', 2)\n",
    "dog1 = Dog('Alpha', 'Canine')\n",
    "cat1 = Cat('Garfield', 'Feline', isFast=True)\n",
    "\n",
    "animal1.talk()\n",
    "dog1.talk()\n",
    "cat1.talk()\n",
    "\n",
    "cat1.isFast\n"
   ]
  },
  {
   "cell_type": "markdown",
   "metadata": {},
   "source": [
    "# Exercises"
   ]
  },
  {
   "cell_type": "markdown",
   "metadata": {},
   "source": [
    "### Exercise 1 - Turn the shopping cart program from yesterday into an object-oriented program\n",
    "\n",
    "The comments in the cell below are there as a guide for thinking about the problem. However, if you feel a different way is best for you and your own thought process, please do what feels best for you by all means."
   ]
  },
  {
   "cell_type": "code",
   "execution_count": null,
   "metadata": {},
   "outputs": [],
   "source": [
    "# Create a class called cart that retains items and has methods to add, remove, and show\n",
    "\n",
    "\n",
    "class cart():\n",
    "    def __init__(self):\n",
    "        self.number_of_products_in_cart = 0\n",
    "        self.total_number_of_products_in_cart = {}\n",
    "\n",
    "    \n",
    "def welcome_screen(self):\n",
    "    welcome = input ('Welcome to Kroger! Would you like to check out or quit?')\n",
    "    if welcome == 'quit':\n",
    "        self.options()\n",
    "    elif display == 'How can we help you?':\n",
    "        print('Add item to cart')\n",
    "        print('Remove item to cart')\n",
    "        print('View Cart')\n",
    "        print('Quit')\n",
    "\n",
    "def add_item(self):\n",
    "    products = input ('Apples','Oranges','Kiwis','Milk','Bread')\n",
    "    item = input('Enter an item: ')\n",
    "    if item not in cart:\n",
    "            print('Not in Inventory.')\n",
    "    elif item in cart:\n",
    "            print('This item is already in your shopping basket.')\n",
    "    else:\n",
    "            qnty = int(input('How many would you like?: '))\n",
    "            cart[item] = qnty\n",
    "   \n",
    "\n",
    "def remove_item(self):\n",
    "    display = cart\n",
    "    item = input('Remove an item: ')\n",
    "    if item in cart:\n",
    "         print('Would you like to remove this item? Yes or No')\n",
    "    if display == ('Item has been removed')\n",
    "        print('Would you like to continue or checkout?')   \n",
    "    elif display = ('Item has not been removed')\n",
    "    print('Would you like to continue or checkout?')\n",
    "\n",
    "def view_cart(self):\n",
    "    display = cart\n",
    "    if display == 'cart':\n",
    "        print('Go back or checkout')\n",
    "\n",
    "def checkout(self)\n",
    "    checkout = input ('Would you like to checkout? If so please continue with payment or quit')\n",
    "    if checkout == 'quit':\n",
    "            self.options()\n",
    "    display = input ('Would you like to checkout? If so please continue with payment or quit')\n",
    "    if display == 'Payment Completed':\n",
    "        print('Thank you, have a nice day!')\n",
    "    elif display == 'Payment Unsucessful':\n",
    "        print('Please try again or have a nice day!')\n",
    "        self.cart_payment()\n",
    "    elif display == 'quit':\n",
    "            self.options()\n",
    "    else:\n",
    "            print('Invalid. Please complete payment')\n",
    "            self.cart_payment()   \n",
    "\n"
   ]
  },
  {
   "cell_type": "markdown",
   "metadata": {},
   "source": [
    "### Exercise 2 - Write a Python class which has two methods get_String and print_String. get_String accept a string from the user and print_String print the string in upper case"
   ]
  },
  {
   "cell_type": "code",
   "execution_count": null,
   "metadata": {},
   "outputs": [],
   "source": [
    "class string_method():\n",
    "    def __init__(self, string):\n",
    "        self.string = {}\n",
    "        \n",
    "\n",
    "    def get_string(self):\n",
    "        word = input (f\" Please write a sentence: \")\n",
    "        self.string[word]\n",
    "        \n",
    "\n",
    "    def print_string(self):\n",
    "        word = input('sentence')\n",
    "        if word in self.string:\n",
    "            print({word}.upper)\n",
    "\n",
    "sentence = string_method()\n",
    "\n",
    "sentence.get_string()\n",
    "sentence.print_string()"
   ]
  }
 ],
 "metadata": {
  "kernelspec": {
   "display_name": "Python 3",
   "language": "python",
   "name": "python3"
  },
  "language_info": {
   "codemirror_mode": {
    "name": "ipython",
    "version": 3
   },
   "file_extension": ".py",
   "mimetype": "text/x-python",
   "name": "python",
   "nbconvert_exporter": "python",
   "pygments_lexer": "ipython3",
   "version": "3.9.13 (tags/v3.9.13:6de2ca5, May 17 2022, 16:36:42) [MSC v.1929 64 bit (AMD64)]"
  },
  "vscode": {
   "interpreter": {
    "hash": "07af3257c2096db644a3a0a671f7ee16834234c368370385a1d95a11c638dfbb"
   }
  }
 },
 "nbformat": 4,
 "nbformat_minor": 2
}
